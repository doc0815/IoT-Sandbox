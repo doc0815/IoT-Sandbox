{
 "cells": [
  {
   "cell_type": "markdown",
   "metadata": {},
   "source": [
    "# How to create an aggregation pipeline"
   ]
  },
  {
   "cell_type": "markdown",
   "metadata": {},
   "source": [
    "Setup the connection to MongoDB and access the SensorData collection. For details, see the tutorial \"how to access the sensor data\"."
   ]
  },
  {
   "cell_type": "code",
   "execution_count": null,
   "metadata": {
    "collapsed": true
   },
   "outputs": [],
   "source": [
    "from pymongo import MongoClient\n",
    "from bson.json_util import dumps\n",
    "uri = \"mongodb+srv://<username>:<password>@sandbox-qb8uy.mongodb.net/test?retryWrites=true\"\n",
    "client = MongoClient(uri)\n",
    "impExplorer = client.impExplorer\n",
    "sensordata = impExplorer.SensorData"
   ]
  },
  {
   "cell_type": "markdown",
   "metadata": {},
   "source": [
    "Check if the number of documents in the SensorData collection can be retrieved."
   ]
  },
  {
   "cell_type": "code",
   "execution_count": null,
   "metadata": {
    "collapsed": true
   },
   "outputs": [],
   "source": [
    "sensordata.count_documents({})"
   ]
  },
  {
   "cell_type": "markdown",
   "metadata": {},
   "source": [
    "Setup to aggregation pipeline and execute it"
   ]
  },
  {
   "cell_type": "code",
   "execution_count": null,
   "metadata": {
    "collapsed": true
   },
   "outputs": [],
   "source": [
    "from datetime import datetime, timedelta\n",
    "\n",
    "# filter for the sensor data of the past 24 hours\n",
    "last_24hours = datetime.utcnow() - datetime(1970, 1, 1, 0, 0, 0) + timedelta(hours=-24)\n",
    "match_stage = { \"$match\": {\n",
    "    \"sensorTimestamp\": {\"$gte\": (last_24hours.total_seconds() * 1000)}\n",
    "}}\n",
    "\n",
    "# date/time conversions to get aggregation level (two choices are implemented)\n",
    "timestamp_stage_1 = { \"$addFields\": {\n",
    "    \"sensorDatePrt\": {\n",
    "        \"$dateToParts\": {\"date\": {\"$toDate\": \"$sensorTimestamp\"} }\n",
    "    }\n",
    "}}\n",
    "timestamp_stage_2 = { \"$addFields\": {\n",
    "    # hourly\n",
    "    \"sensorDateAgg1\":{\n",
    "        \"$dateToString\": {\n",
    "            \"date\": {\"$toDate\": \"$sensorTimestamp\"}, \n",
    "            \"format\": \"%Y-%m-%d %H:00\", \n",
    "            \"timezone\": \"Europe/Berlin\"\n",
    "        }\n",
    "    },\n",
    "    # 15 minute intervals\n",
    "    \"sensorDateAgg2\":{\n",
    "        \"$dateToString\": {\n",
    "            \"date\": {\n",
    "                \"$dateFromParts\": {\n",
    "                    \"year\": \"$sensorDatePrt.year\",\n",
    "                    \"month\": \"$sensorDatePrt.month\",\n",
    "                    \"day\": \"$sensorDatePrt.day\",\n",
    "                    \"hour\": \"$sensorDatePrt.hour\",\n",
    "                    \"minute\": {\n",
    "                        \"$switch\": {\n",
    "                            \"branches\": [\n",
    "                                {\"case\":{ \"$gte\": [\"$sensorDatePrt.minute\", 45] }, \"then\": 45},\n",
    "                                {\"case\":{ \"$gte\": [\"$sensorDatePrt.minute\", 30] }, \"then\": 30},\n",
    "                                {\"case\":{ \"$gte\": [\"$sensorDatePrt.minute\", 15] }, \"then\": 15},\n",
    "                            ], \"default\": 0\n",
    "                        }\n",
    "                    }\n",
    "                }\n",
    "            },\n",
    "            \"format\": \"%Y-%m-%d %H:%M\", \n",
    "            \"timezone\": \"Europe/Berlin\"\n",
    "        }\n",
    "    }\n",
    "}}\n",
    "\n",
    "# aggregate the data to the sensorDate string\n",
    "group_stage = { \"$group\": {\n",
    "    \"_id\": \"$sensorDateAgg2\", # edit here to choose the desired aggregation level\n",
    "    \"nbr\": {\"$sum\": 1},\n",
    "    \"temp_avg\": {\"$avg\": \"$temperature\"}, \n",
    "    \"temp_min\": {\"$min\": \"$temperature\"},\n",
    "    \"temp_max\": {\"$max\": \"$temperature\"}, \n",
    "    \"temp_std\": {\"$stdDevSamp\": \"$temperature\"}\n",
    "}}\n",
    "\n",
    "# restructure and rename aggregated data\n",
    "project_stage = { \"$project\": {\n",
    "    \"_id\": 1,\n",
    "    \"nbr\": 1,\n",
    "    \"temperature\": {\n",
    "        \"mean\": \"$temp_avg\", \n",
    "        \"std\": \"$temp_std\", \n",
    "        \"min\": \"$temp_min\", \n",
    "        \"max\": \"$temp_max\"\n",
    "    }\n",
    "}}\n",
    "\n",
    "# sort data\n",
    "sort_stage = { \"$sort\": { \"_id\": -1 } }\n",
    "\n",
    "# add stages to pipeline\n",
    "pipeline = [\n",
    "    match_stage,\n",
    "    timestamp_stage_1,\n",
    "    timestamp_stage_2,\n",
    "    group_stage,\n",
    "    project_stage,\n",
    "    sort_stage\n",
    "]\n",
    "\n",
    "# execute pipeline\n",
    "last_24hours_temperature = sensordata.aggregate( pipeline )"
   ]
  },
  {
   "cell_type": "markdown",
   "metadata": {},
   "source": [
    "Show the queried results"
   ]
  },
  {
   "cell_type": "code",
   "execution_count": null,
   "metadata": {
    "collapsed": true
   },
   "outputs": [],
   "source": [
    "print(dumps(last_24hours_temperature, indent=2))"
   ]
  }
 ],
 "metadata": {
  "kernelspec": {
   "display_name": "Python 3",
   "language": "python",
   "name": "python3"
  },
  "language_info": {
   "codemirror_mode": {
    "name": "ipython",
    "version": 3
   },
   "file_extension": ".py",
   "mimetype": "text/x-python",
   "name": "python",
   "nbconvert_exporter": "python",
   "pygments_lexer": "ipython3",
   "version": "3.6.3"
  }
 },
 "nbformat": 4,
 "nbformat_minor": 2
}
